{
 "cells": [
  {
   "cell_type": "markdown",
   "metadata": {},
   "source": [
    "# QUESTION 2 - Calculating the sulfur isotope composition during volcanic degassing\n",
    "\n",
    "### You are provided with the following information:\n",
    "\n",
    "1. Initial $\\delta^{34}S$ of a melt: 0 $^0/_{00}$\n",
    "2. S isotope fractionation factor $\\alpha(H_{2}S_{gas} - S^{2-}_{melt})$ at 1030 $^{\\circ\\!\\!}$ C and QFM-0.5 (Fiege et al., 2014)\n",
    "    - For a basalt: $\\alpha$ = 1.0099\n",
    "    - For a rhyolite: $\\alpha$ = 1.0050\n",
    "3. Equations to calculate the S isotopic composition of the melt after S loss:\n",
    "    - For closed system degassing: $\\delta^{34} S_{m\\_final}$  = $\\delta^{34}S_{m\\_init}$ – $(1 – F)$ $\\times$ $10^3$ $\\times$  $\\ln \\alpha$\n",
    "    - For open system degassing: $\\delta^{34} S_{m\\_final}$  = ($\\delta^{34} S_{m\\_init}$ + $10^3$) $\\times$ $F^{(\\alpha-1)}$ - $10^3$\n",
    "    - Where $F$ is the fraction of S remaining in the melt. $\\delta^{34}S_{m\\_final}$  is the final (degassed) isotopic composition of the melt, whereas $\\delta^{34}S_{m\\_init}$ is the initial (before degassing) isotopic composition of the melt. $\\alpha$ is the fractionation factor $\\alpha(H_{2}S_{gas} - S^{2-}_{melt})$\n",
    "\n",
    "### Table from Fiege et al., 2014\n",
    "![image](Fiege_et_al_2014-Table.png)\n",
    "\n",
    "Fiege A, Holtz F, Shimizu N, Mandeville CW, Behrens H, Knipping JL. Sulfur isotope fractionation between fluid and andesitic melt: An experimental study. Geochimica et Cosmochimica Acta. 2014 Oct 1;142:501-21.\n",
    "\n",
    "## Assignment\n",
    "1. Assume constant $fO_{2}$ conditions of QFM-0.5 and constant temperature. Calculate the $\\delta^{34}S$ degassing path of a melt as a function of the fraction of S remaining in the melt for a basalt at 1030 $^{\\circ\\!\\!}$ C for both open and closed system degassing. The stepwise decrease of S in the melt is used as a measure of degassing. Plot a figure showing the $\\delta^{34}S_{melt}$ in permille versus the fraction of S remaining in the melt (from 0-1).\n",
    "2. Do the same for rhyolite.\n",
    "3. Comment on the results for both.\n",
    "\n",
    "<hr>\n",
    "\n"
   ]
  },
  {
   "cell_type": "markdown",
   "metadata": {},
   "source": [
    "## Step 1. Construct a method to calculate $\\delta^{34}S$\n",
    "\n",
    "### 1a. Define necessary constants\n",
    "Using the values given above (taken from the table from Fiege et al., 2014), define the constant values needed to calculate $\\delta^{34}S$."
   ]
  },
  {
   "cell_type": "code",
   "execution_count": 60,
   "metadata": {},
   "outputs": [],
   "source": [
    "# import necessary libraries\n",
    "import numpy as np # numpy library to do some math\n",
    "import matplotlib.pyplot as plt # matplotlib's pyplot for plotting\n",
    "\n",
    "# Melt/fO2 fractionation factors\n",
    "basalt_alpha_H2S_S2 = 1.0099\n",
    "rhyolite_alpha_H2S_S2 = 1.0050"
   ]
  },
  {
   "cell_type": "markdown",
   "metadata": {},
   "source": [
    "### 1b. Closed-system degassing method\n",
    "\n",
    "First, we will construct python methods for closed-system and open-system degassing paths separately. Later, we can combine them into one function. Best practice is to break out each calculation into its own method, which can then be called upon by more complex methods that handle interfacing with the user. For example, a more complex method might allow the user to decide \"open\" or \"closed\" system, and the method will call upon a smaller open-system or closed-system calculation defined in another method. That is the approach we will take here.\n",
    "\n",
    "Also note the use of \"doc strings\" or blocks of text that document the functionality of each of the methods we create below. These are critical to good programming and help you understand what inputs and outputs the method takes and returns in addition to crucial information about those inputs and outputs such as their units."
   ]
  },
  {
   "cell_type": "code",
   "execution_count": 22,
   "metadata": {},
   "outputs": [],
   "source": [
    "def delta34S_closed(delta34_S_initial, fractionation_factor, F):\n",
    "    \"\"\"\n",
    "    Method to calculate the change in S isotope delta34S_melt during\n",
    "    closed-system degassing of a melt. This returns a single value\n",
    "    for delta34S_melt given the fraction of S remaining dissolved in\n",
    "    the melt, where 1 is not at all degassed and 0 is totally degassed.\n",
    "\n",
    "    Parameters\n",
    "    ----------\n",
    "    delta34_S_initial:  float\n",
    "        Initial value for delta34_S in the melt at the start of the\n",
    "        degassing in permille.\n",
    "    \n",
    "    fractionation_factor:   float\n",
    "        Fractionation factor, alpha, for alpha(H2S_gas - S2-_melt)\n",
    "    \n",
    "    F:  float\n",
    "        Fraction of S remaining in the melt, where 1 = not at all\n",
    "        degassed and 0 = totally degassed.\n",
    "\n",
    "    Returns\n",
    "    -------\n",
    "    float\n",
    "        delta34_S value at a given point along a degassing path\n",
    "    \"\"\"\n",
    "    # note that np.log() is natural log!\n",
    "    delta34_S_calc = (delta34_S_initial - (1 - F) * 10**3 *\n",
    "                      np.log(fractionation_factor))\n",
    "\n",
    "    return delta34_S_calc"
   ]
  },
  {
   "cell_type": "markdown",
   "metadata": {},
   "source": [
    "### 1c. Open-system degassing method.\n",
    "\n",
    "Let's do the same thing we did above, where we create a very simple method to calculate the $\\delta^{34}S$ of a melt at each degassing step, but for open-system degassing."
   ]
  },
  {
   "cell_type": "code",
   "execution_count": 38,
   "metadata": {},
   "outputs": [],
   "source": [
    "def delta34S_open(delta34_S_initial, fractionation_factor, F):\n",
    "    \"\"\"\n",
    "    Method to calculate the change in S isotope delta34S_melt during\n",
    "    open-system degassing of a melt. This returns a single value for\n",
    "    delta34S_melt given the fraction of S remaining dissolved in the\n",
    "    melt, where 1 is not at all degassed and 0 is totally degassed.\n",
    "\n",
    "    Parameters\n",
    "    ----------\n",
    "    delta34_S_initial:  float\n",
    "        Initial value for delta34_S in the melt at the start of the\n",
    "        degassing in permille.\n",
    "    \n",
    "    fractionation_factor:   float\n",
    "        Fractionation factor, alpha, for alpha(H2S_gas - S2-_melt)\n",
    "    \n",
    "    F:  float\n",
    "        Fraction of S remaining in the melt, where 1 = not at all\n",
    "        degassed and 0 = totally degassed.\n",
    "\n",
    "    Returns\n",
    "    -------\n",
    "    float\n",
    "        delta34_S value at a given point along a degassing path\n",
    "    \"\"\"\n",
    "    delta34_S_calc = ((delta34_S_initial + 10**3) *\n",
    "                      F**(fractionation_factor-1) - 10**3)\n",
    "\n",
    "    return delta34_S_calc"
   ]
  },
  {
   "cell_type": "markdown",
   "metadata": {},
   "source": [
    "### 1d. Degassing calculation.\n",
    "\n",
    "Now, let's write a method to perform a series of open- or closed-system calcultions as we defined them above, at a series of steps from F=1 (not degassed at all) to F=0 (totally degassed)."
   ]
  },
  {
   "cell_type": "code",
   "execution_count": 57,
   "metadata": {},
   "outputs": [],
   "source": [
    "def calculate_delta34_S_degassing_path(delta34_S_initial,\n",
    "                                       fractionation_factor,\n",
    "                                       system, steps=100):\n",
    "    \"\"\"\n",
    "    Method to calculate the degassing path of S isotope delta34S_melt\n",
    "    during closed-system degassing of S from a melt. \n",
    "\n",
    "    Parameters\n",
    "    ----------\n",
    "    delta34_S_initial:  float\n",
    "        Initial value for delta34_S in the melt at the start of the\n",
    "        degassing in permille.\n",
    "    \n",
    "    fractionation_factor:   float\n",
    "        Fractionation factor, alpha, for alpha(H2S_gas - S2-_melt)\n",
    "    \n",
    "    system: str\n",
    "        Can be one of \"open\" for open-system or \"closed\" for closed-system.\n",
    "    \n",
    "    steps:  int\n",
    "        Number of steps to calculate along the degassing path. 100 steps\n",
    "        is the default value.\n",
    "\n",
    "    Returns\n",
    "    -------\n",
    "    dict\n",
    "        Dictionary of values along a degassing path in the form\n",
    "        {fraction of S in melt: delta34_S in the melt in permille}.\n",
    "        Fraction of S remaining in the melt is given from 1 to 0,\n",
    "        where 1 = not at all degassed and 0 = totally degassed.\n",
    "    \"\"\"\n",
    "    # create an array from 1 down to zero\n",
    "    step_size = 1/steps\n",
    "    F_array = np.arange(1, 0, -step_size)\n",
    "\n",
    "    # create an empty dictionary to hold computed values\n",
    "    degassing_dict = {}\n",
    "\n",
    "    # create a for loop to perform calculation at each degassing step\n",
    "    if system == \"open\":\n",
    "        for i in F_array:\n",
    "            delta34_S_value = delta34S_open(delta34_S_initial,\n",
    "                                            fractionation_factor, i)\n",
    "            degassing_dict[i] = delta34_S_value\n",
    "    elif system == \"closed\":\n",
    "        for i in F_array:\n",
    "            delta34_S_value = delta34S_closed(delta34_S_initial,\n",
    "                                              fractionation_factor, i)\n",
    "            degassing_dict[i] = delta34_S_value\n",
    "    else:\n",
    "        raise ValueError(\"system variable must be a string, either 'open' or 'closed'.\")\n",
    "\n",
    "    return degassing_dict"
   ]
  },
  {
   "cell_type": "markdown",
   "metadata": {},
   "source": [
    "## Step 2. Run the calculation for basalt and rhyolite for both open and closed systems."
   ]
  },
  {
   "cell_type": "code",
   "execution_count": 70,
   "metadata": {},
   "outputs": [],
   "source": [
    "degassing_path_basalt_open = calculate_delta34_S_degassing_path(0,basalt_alpha_H2S_S2, \"open\", 100)\n",
    "degassing_path_basalt_closed = calculate_delta34_S_degassing_path(0, basalt_alpha_H2S_S2, \"closed\", 100)\n",
    "degassing_path_rhyolite_open = calculate_delta34_S_degassing_path(0, rhyolite_alpha_H2S_S2, \"open\", 100)\n",
    "degassing_path_rhyolite_closed = calculate_delta34_S_degassing_path(0, rhyolite_alpha_H2S_S2, \"closed\", 100)"
   ]
  },
  {
   "cell_type": "markdown",
   "metadata": {},
   "source": [
    "## Step 3. Plot up your results."
   ]
  },
  {
   "cell_type": "code",
   "execution_count": 92,
   "metadata": {},
   "outputs": [
    {
     "data": {
      "image/png": "[encoded data removed]",
      "text/plain": [
       "<Figure size 576x576 with 1 Axes>"
      ]
     },
     "metadata": {
      "needs_background": "light"
     },
     "output_type": "display_data"
    }
   ],
   "source": [
    "# create a figure and axes with matplotlib\n",
    "fig, ax = plt.subplots(figsize=(8,8))\n",
    "ax.set_xlim(0,1)\n",
    "\n",
    "# define x and y values to plot\n",
    "x = [F for F in degassing_path_basalt_open.keys()]\n",
    "y_basalt_open = [delS for delS in degassing_path_basalt_open.values()]\n",
    "y_basalt_closed = [delS for delS in degassing_path_basalt_closed.values()]\n",
    "y_rhyolite_open = [delS for delS in degassing_path_rhyolite_open.values()]\n",
    "y_rhyolite_closed = [delS for delS in degassing_path_rhyolite_closed.values()]\n",
    "\n",
    "ax.invert_xaxis()\n",
    "\n",
    "# add axis titles\n",
    "ax.set_xlabel(\"Fraction of S in the melt\", fontsize=20)\n",
    "ax.set_ylabel(r\"$\\delta^{34}S_{melt}$\" + u'\\u2030', fontsize=20)\n",
    "ax.tick_params(labelsize=15)\n",
    "\n",
    "# add linear fits to the plot\n",
    "ax.plot(x, y_basalt_open, color=\"#800080\", linestyle='dashed', label=\"Basalt, open\")\n",
    "ax.plot(x, y_basalt_closed, color=\"#800080\", label=\"Basalt, closed\")\n",
    "ax.plot(x, y_rhyolite_open, color=\"#FF8C03\", linestyle='dashed', label=\"Rhyolite, open\")\n",
    "ax.plot(x, y_rhyolite_closed, color=\"#FF8C03\", label=\"Rhyolite, closed\")\n",
    "plt.legend(fontsize=14)\n",
    "\n",
    "fig.savefig('S_isotope_exercise.png', dpi=400)   # save the figure to file\n",
    "\n",
    "plt.show()"
   ]
  }
 ],
 "metadata": {
  "kernelspec": {
   "display_name": "Python 3 (ipykernel)",
   "language": "python",
   "name": "python3"
  },
  "language_info": {
   "codemirror_mode": {
    "name": "ipython",
    "version": 3
   },
   "file_extension": ".py",
   "mimetype": "text/x-python",
   "name": "python",
   "nbconvert_exporter": "python",
   "pygments_lexer": "ipython3",
   "version": "3.9.7"
  }
 },
 "nbformat": 4,
 "nbformat_minor": 2
}
