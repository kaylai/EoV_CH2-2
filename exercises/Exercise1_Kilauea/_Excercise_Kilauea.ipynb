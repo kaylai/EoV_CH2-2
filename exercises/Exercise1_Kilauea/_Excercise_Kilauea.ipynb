{
 "cells": [
  {
   "cell_type": "markdown",
   "metadata": {},
   "source": [
    "# EXERCISE 1: KILAUEA MELT AND FLUID INCLUSIONS\n",
    "\n",
    "In this notebook you will learn how to analyze melt inclusion (MI) data in order to estimate the depths of entrapment of each MI using compositional information. To do so, we will be using geochemical and solubility modeling since the solubility of H<sub>2</sub>O and CO<sub>2</sub> are directly controlled by the pressure (and thus depth) at which the MI was entrapped in its host crystal. For this exercise we have provided an excel spreadsheet containing some of the data from Wieser et al. (2021) who performed measurements on the compositions of melt and vapor phases in a set of crystals from Kilauea volcano, Hawaii. The same data is provided in an accompanying csv file. The presence of bubbles within MI can be due to diffusion of CO<sub>2</sub> out of the glassy portion of the MI at high temperature. Raman spectroscopy can be used to measure the abundance of CO<sub>2</sub> within these bubbles.\n",
    "\n",
    "For more help using VESIcal, use the following resources:\n",
    "\n",
    "**ReadTheDocs**\n",
    "- How-to's, tips, tricks, and complete code documentation: [https://vesical.readthedocs.io/en/latest/](https://vesical.readthedocs.io/en/latest/)\n",
    "\n",
    "**Interactive versions of manuscripts**\n",
    "- Curvenote/AGU Notebooks Now! implementation of VESIcal Part I manuscript: [Manuscript on Curvenote](https://agu.curve.space/articles/NN0001)\n",
    "- Direct link to interactive jupyter notebook version of VESIcal Part I manuscript: [Manuscript on Binder](https://agu-binder.curvenote.dev/user/2be900e9-fb5d-4-9778d16a48c.zip-4wrcztow/lab/tree/Manuscript.ipynb?token=EzBUfh6US4qFq4UW0MSkYA)\n",
    "- Jupyter Notebook hub with VESIcal: [Manuscript on Binder](https://mybinder.org/v2/gh/kaylai/vesical-binder/HEAD>)\n",
    "\n",
    "**PDF versions of manuscripts**\n",
    "- [VESIcal Part I: An Open-Source Thermodynamic Model Engine for Mixed Volatile (H2O-CO2) Solubility in Silicate Melts](https://agupubs.onlinelibrary.wiley.com/doi/10.1029/2020EA001584)\n",
    "- [VESIcal Part II: A critical approach to volatile solubility modelling using an open-source Python3 engine](https://agupubs.onlinelibrary.wiley.com/doi/10.1029/2021EA001932)\n",
    "\n",
    "**GitHub with VESIcal code**\n",
    "- [https://github.com/kaylai/VESIcal](https://github.com/kaylai/VESIcal)\n",
    "\n",
    "<hr>\n",
    "\n",
    "# EXERCISE INSTRUCTIONS AND QUESTIONS\n",
    "\n",
    "\n",
    "## You are provided with:\n",
    "1. Glass inclusion compositions (corrected for post-entrapment crystallization), including H<sub>2</sub>O and CO<sub>2</sub> concentrations;\n",
    "2. The volumetric size of any bubble present in the inclusion (vapor bubble vol%);\n",
    "3. The CO<sub>2</sub> Fermi diad separation,  $\\Delta(cm^{-1}$) from Raman analyses.\n",
    "\n",
    "- Download the dataset for Kilauea Volcano melt and fluid inclusions at: [Link]()\n",
    "- The answer key to this notebook is in the form of a CSV file that should match the file created at the end of this notebok and can be downloaded here: [Link]()\n",
    "\n",
    "\n",
    "## Questions to answer:\n",
    "### 1. Calculate saturation pressures for the melt inclusions based on the H<sub>2</sub>O and CO<sub>2</sub> concentrations of the glasses, using VESIcal.\n",
    "### 2. Calculate the density of the melt as represented by the glass compositions using DensityX (Iacovino & Till, 2019).\n",
    "### 3. Calculate the density of the CO<sub>2</sub> in the bubbles using the equation to convert the diad separation into density. \n",
    "Here we will run through a simplified calculation using empiracle regressions from Fall et al. (2011) and Wieser and DeVitre (2024). Fall et al. (2011) provides an equation that only requires the Fermi diad separation value as an input:\n",
    "\n",
    "$\\rho = -0.030314551 \\Delta^{3} + 9.432834797 \\Delta^{2} - 977.9384933 \\Delta + 33780.38242$\n",
    "\n",
    "Where $\\rho$ is the density and $\\Delta$ is the separation distance between the two peaks of the Fermi diad in cm<sup>-1</sup>. The python3 program [DiadFit (Wieser and DeVitre, 2024)](https://www.jvolcanica.org/ojs/index.php/volcanica/article/view/252) can be used to process Raman spectroscopy data and provide a fit to measured peaks and correct for instrument drift. Wieser and DeVitre (2024) provided the necessary values of correction factor, regression gradient, and regression intercept that allow us to calculate CO<sub>2</sub> densities with their corrections. We'll create a second function to solve:\n",
    "\n",
    "$\\rho = \\Delta \\times Corr \\times Regr_{gradient} \\times Regr_{intercept}$\n",
    "\n",
    "Where $\\rho$ is again the density, $\\Delta$ is again the Fermi diad separation, $Corr$ is the correction factor, $Regr_{gradient}$ is the gradient of the regression through their data, and $Rerg_{intercept}$ is the intercept of the regression through their data.\n",
    "\n",
    "### 4. Calculate the concentration of CO<sub>2</sub> in the bubble (in ppm) using:\n",
    "\n",
    "$[CO_2]^{VB} = 10^4 \\times \\frac{\\rho_{CO_2} V_{VB}}{\\rho_{melt}V_{melt}}$\n",
    "\n",
    "where $V_{VB}$ and $V_{melt}$ are the volume of the vapor bubble and the melt phase of the inclusion, respectively, and $\\rho_{melt}$ is the density of the silicate melt.\n",
    "\n",
    "### 5. Calculate the total amount of CO<sub>2</sub> in the inclusion (in ppm):\n",
    "\n",
    "$[CO_2]^{Tot} = [CO_2]^{VB} + [CO_2]^{melt}$\n",
    "\n",
    "### 6. Use the total volatile contents of the inclusions to calculate saturation pressures using VESIcal.\n",
    "Compare these pressures to those you calculated in 1. What can you conclude about the importance of analyzing bubbles in melt inclusions?\n",
    "\n",
    "## Citations\n",
    "1. Fall, A., Tattitch, B. & Bodnar, R. J. (2011) Combined microthermometric and Raman spectroscopic technique to determine the salinity of H2O–CO2–NaCl fluid inclusions based on clathrate melting. Geochim. Cosmochim. Acta 75, 951–964.\n",
    "\n",
    "2. Iacovino, K., Matthews, S., Wieser, P. E., Moore, G. M., & Bégué, F. (2021). VESIcal Part I: An open‐source thermodynamic model engine for mixed volatile (H2O‐CO2) solubility in silicate melts. Earth and Space Science, 8(11), e2020EA001584.\n",
    "\n",
    "3. Lerner, A. H., Sublett, D. M., Wallace, P. J., Cauley, C. & Bodnar, R. J. (2024) Insights into magma storage depths and eruption controls at Kīlauea Volcano during explosive and effusive periods of the past 500 years based on melt and fluid inclusions. Earth Planet. Sci. Lett. 628, 118579.\n",
    "\n",
    "4. Wieser, P. E. et al. (2020) Reconstructing Magma Storage Depths for the 2018 Kı̄lauean Eruption from Melt inclusion CO2 Contents: The Importance of Vapor Bubbles. Geochem Geophys Geosystems (2020) doi:10.1029/2020gc009364.\n",
    "\n",
    "5. Wieser, P. E., Iacovino, K., Matthews, S., Moore, G., & Allison, C. M. (2022). VESIcal: 2. A critical approach to volatile solubility modeling using an open‐source Python3 engine. Earth and Space Science, 9(2), e2021EA001932.\n",
    "\n",
    "6. Wieser, P. E., & DeVitre, C. (2024). DiadFit: An open-source Python3 tool for peak fitting of Raman data from silicate melts and CO2 fluids. Volcanica, 7(1), 335-359.\n",
    "\n",
    "\n",
    "<hr>\n"
   ]
  },
  {
   "cell_type": "markdown",
   "metadata": {},
   "source": [
    "## Performing the calculations\n",
    "For each question in this problem set, we will first illustrate how to calculate the various required values for a single sample, and then we will perform batch calculations to perform the calculations for the entire dataset at once. We will import an excel file with our data using VESIcal and create a BatchFile object that allows VESIcal to perform calcuations. We will also create a pandas DataFrame object called `data_values`, and we will add newly calculated values to this object as we perform each calculation.\n",
    "\n",
    "## About this notebook\n",
    "This notebook uses VESIcal to compute solubility curves, numpy for some math, pandas to handle dataframes, and matplotlib to plot. Pickle is used to \"pickle\" (save) computed values to memory and read them back in such that the computations do not need to be run each time the script is run (e.g., if it is desired to only update the plots).\n",
    "\n",
    "If the MagmaSat model is desired (the default model in VESIcal), the ENKI thermoengine must also be installed on your machine to run this notebook. That is a bit cumbersome, so you may choose to only install VESIcal (without ENKI thermoengine, which is a separate install), which will allow you to use any model within VESIcal except for MagmaSat. In that case, we recommend chaging the `model` variable defined in 0.1 below from \"MagmaSat\" to \"IaconoMarziano\".\n",
    "\n",
    "## 0. Import the necessary Python libraries"
   ]
  },
  {
   "cell_type": "code",
   "execution_count": 81,
   "metadata": {},
   "outputs": [],
   "source": [
    "# import the VESIcal library\n",
    "import VESIcal as v\n",
    "\n",
    "# import the matplotlib library to perform plotting and numpy library for some math\n",
    "import matplotlib.pyplot as plt\n",
    "import numpy as np\n",
    "import pandas as pd\n",
    "\n",
    "import pickle"
   ]
  },
  {
   "cell_type": "markdown",
   "metadata": {},
   "source": [
    "### 0.1 Import Data and Define Notebook Settings"
   ]
  },
  {
   "cell_type": "code",
   "execution_count": 82,
   "metadata": {},
   "outputs": [
    {
     "name": "stderr",
     "output_type": "stream",
     "text": [
      "/opt/anaconda3/lib/python3.9/site-packages/VESIcal/batchfile.py:165: RuntimeWarning: No Label column given, so column 'Sample Name' was chosen for you. To choose your own, set label='<column-name>'.\n",
      "  data = self.try_set_index(data, label)\n"
     ]
    }
   ],
   "source": [
    "# import the Kilauea xlsx file as a VESIcal BatchFile object that VESIcal can understand\n",
    "data = v.BatchFile('Wieser_Kilauea_Data.xlsx', sheet_name=\"VESIcal\")\n",
    "\n",
    "# Let's also save the data as a pandas DataFrame object in order to build on it in each step\n",
    "data_values = data.get_data()\n",
    "\n",
    "# pull out a single composition to perform calculations on just that sample\n",
    "# pass asSampleClass=True to return a VESIcal Sample object that we can easily use in calculations\n",
    "sample_LL8_613b = data.get_sample_composition(\"LL8_613b\", asSampleClass=True)\n",
    "\n",
    "# choose which model to use for all VESIcal solubility calculations.\n",
    "model = \"MagmaSat\"\n",
    "\n",
    "# If desired, display the entire data file (remove # in front of code to execute)\n",
    "# It is highly recommended to do this whenever importing a file to check it was imported correctly.\n",
    "# data.get_data()\n",
    "\n",
    "# If desired, display the composition of sample LL8_613b (remove # in front of code to execute)\n",
    "# sample_LL8_613b.get_composition()"
   ]
  },
  {
   "cell_type": "markdown",
   "metadata": {},
   "source": [
    "### 1. Calculate saturation pressures for the melt inclusions based on the H<sub>2</sub>O and CO<sub>2</sub> concentrations of the glasses, using VESIcal"
   ]
  },
  {
   "cell_type": "markdown",
   "metadata": {},
   "source": [
    "#### Single Sample\n",
    "\n",
    "Calculate and print the saturation pressure for sample K99 using the MagmaSat model (the default in VESIcal). If another model is desired, pass `model=\"desiredmodelhere\"` to the `calculate_saturation_pressure()` function call. We will use 1200 $^{\\circ}$ C, as the temperature for all samples. If temperature values were given in the xlsx file, we could use a unique temperature for each sample by passing the name of the column (e.g., \"Temperature\") as the value for the `temperature` argument. The saturation pressure will be returned in bars."
   ]
  },
  {
   "cell_type": "code",
   "execution_count": 83,
   "metadata": {},
   "outputs": [
    {
     "name": "stdout",
     "output_type": "stream",
     "text": [
      "duanDriver-2: t = 1473.15, p = 16000, z = 3.1349, v = 2.39986, delv = 0, dx = -9.68453e-14, iter = 42\n"
     ]
    },
    {
     "data": {
      "text/plain": [
       "40.0"
      ]
     },
     "execution_count": 83,
     "metadata": {},
     "output_type": "execute_result"
    }
   ],
   "source": [
    "satP_LL8_613b =v.calculate_saturation_pressure(sample=sample_LL8_613b, temperature=1200, model=model).result\n",
    "satP_LL8_613b"
   ]
  },
  {
   "cell_type": "markdown",
   "metadata": {},
   "source": [
    "#### Batch Calculation (all samples)\n",
    "\n",
    "Calculate and print the saturation pressure for all Kilauea samples using the MagmaSat model (the default in VESIcal). If another model is desired, pass `model=\"desiredmodelhere\"` to the `calculate_saturation_pressure()` function call. We will use a value of 1200 $^{\\circ}$ C for the temperature. If temperature values were given in the xlsx file, we could use a unique temperature for each sample by passing the name of the column (e.g., \"Temperature\") as the value for the `temperature` argument. The saturation pressures will be returned in bars as a column named \"SaturationP_bars_VESIcal\" in a new data table (pandas DataFrame).\n",
    "\n",
    "Finally, save add the data calculated here to our `data_files` DataFrame.\n",
    "\n",
    "The MagmaSat model can take a couple of minutes to run this calculation. If desired, you may comment out the code in the cell directly below and uncomment and execute the code in the following cell, which will import a pickle file with this calculation already performed. You can also use another model within VESIcal such as the IaconoMarziano model."
   ]
  },
  {
   "cell_type": "code",
   "execution_count": 84,
   "metadata": {},
   "outputs": [
    {
     "name": "stdout",
     "output_type": "stream",
     "text": [
      "[                    ] 2%  Working on sample LL8_613b                            duanDriver-2: t = 1473.15, p = 16000, z = 3.1349, v = 2.39986, delv = 0, dx = -9.68453e-14, iter = 42\n",
      "[=                   ] 7%  Working on sample LL8_623_b                            duanDriver-2: t = 1473.15, p = 6000, z = 2.17687, v = 4.44388, delv = 0, dx = -2.33046e-14, iter = 40\n",
      "[===                 ] 17%  Working on sample LL8_612_a                            duanDriver-2: t = 1473.15, p = 6000, z = 2.39754, v = 4.89436, delv = 0, dx = -7.00647e-14, iter = 41\n",
      "[====                ] 24%  Working on sample LL8_631a                             duanDriver-2: t = 1473.15, p = 11000, z = 3.44422, v = 3.83513, delv = 0, dx = -8.71628e-14, iter = 41\n",
      "duanDriver-2: t = 1473.15, p = 9000, z = 3.0713, v = 4.17985, delv = 0, dx = -2.47578e-14, iter = 44\n",
      "[=====               ] 26%  Working on sample LL8_616_b                            duanDriver-2: t = 1473.15, p = 20000, z = 3.38257, v = 2.07156, delv = 0, dx = -3.606e-14, iter = 42\n",
      "[======              ] 33%  Working on sample LL8_406                              duanDriver-2: t = 1473.15, p = 19000, z = 3.76486, v = 2.42704, delv = 0, dx = -2.43825e-13, iter = 41\n",
      "[=======             ] 39%  Working on sample LL8_616_a                            duanDriver-2: t = 1473.15, p = 19000, z = 3.53139, v = 2.27653, delv = 0, dx = -6.51193e-14, iter = 42\n",
      "[========            ] 41%  Working on sample LL8_606                            duanDriver-2: t = 1473.15, p = 20000, z = 3.54681, v = 2.17215, delv = 0, dx = -3.3709e-14, iter = 43\n",
      "duanDriver-2: t = 1473.15, p = 7000, z = 2.50529, v = 4.38371, delv = 0, dx = -6.31422e-14, iter = 42\n",
      "[========            ] 43%  Working on sample LL8_426                            duanDriver-2: t = 1473.15, p = 17000, z = 3.49646, v = 2.51919, delv = 0, dx = -6.12026e-14, iter = 42\n",
      "duanDriver-2: t = 1473.15, p = 6000, z = 2.30138, v = 4.69807, delv = 0, dx = -7.04422e-14, iter = 40\n",
      "duanDriver-2: t = 1473.15, p = 5000, z = 2.10914, v = 5.16673, delv = 0, dx = -2.75312e-14, iter = 28\n",
      "[========            ] 44%  Working on sample LL8_401                            duanDriver-2: t = 1473.15, p = 16000, z = 3.27085, v = 2.50393, delv = 0, dx = -5.14961e-13, iter = 37\n",
      "[=========           ] 48%  Working on sample LL8_280                              duanDriver-2: t = 1473.15, p = 7000, z = 2.46153, v = 4.30713, delv = 0, dx = -1.00399e-13, iter = 41\n",
      "[==========          ] 52%  Working on sample LL8_232                             duanDriver-2: t = 1473.15, p = 18000, z = 3.43029, v = 2.33421, delv = 0, dx = -4.45277e-14, iter = 42\n",
      "duanDriver-2: t = 1473.15, p = 6000, z = 2.20653, v = 4.50442, delv = 0, dx = -3.10049e-14, iter = 40\n",
      "[==========          ] 54%  Working on sample LL4_B                            duanDriver-2: t = 1473.15, p = 7000, z = 2.62375, v = 4.59098, delv = 0, dx = -3.40256e-14, iter = 39\n",
      "[============        ] 63%  Working on sample LL4_12                              duanDriver-2: t = 1473.15, p = 15000, z = 3.18138, v = 2.5978, delv = 0, dx = -5.93403e-14, iter = 38\n",
      "duanDriver-2: t = 1473.15, p = 13000, z = 3.09563, v = 2.91667, delv = 0, dx = -2.46618e-14, iter = 44\n",
      "duanDriver-2: t = 1473.15, p = 12000, z = 3.02292, v = 3.08551, delv = 0, dx = -4.02211e-14, iter = 43\n",
      "[============        ] 65%  Working on sample LL4_10                            duanDriver-2: t = 1473.15, p = 7000, z = 2.37607, v = 4.1576, delv = 0, dx = -2.38558e-13, iter = 39\n",
      "[=============       ] 67%  Working on sample LL4_9                            duanDriver-2: t = 1473.15, p = 19000, z = 3.87709, v = 2.49938, delv = 0, dx = -6.47043e-14, iter = 40\n",
      "[==============      ] 70%  Working on sample LL4_23                            duanDriver-2: t = 1473.15, p = 16000, z = 2.95781, v = 2.26429, delv = 0, dx = -2.64575e-14, iter = 43\n",
      "[===============     ] 76%  Working on sample LL7_115_A                            duanDriver-2: t = 1473.15, p = 14000, z = 3.35443, v = 2.93476, delv = 0, dx = -3.39246e-14, iter = 42\n",
      "duanDriver-2: t = 1473.15, p = 7000, z = 2.48601, v = 4.34998, delv = 0, dx = -2.86171e-14, iter = 43\n",
      "[===============     ] 80%  Working on sample LL7_114                              duanDriver-2: t = 1473.15, p = 12000, z = 3.11027, v = 3.17467, delv = 0, dx = -2.688e-14, iter = 44\n",
      "[=================   ] 87%  Working on sample LL7_248                              duanDriver-2: t = 1473.15, p = 8000, z = 2.70042, v = 4.13449, delv = 0, dx = -2.37359e-14, iter = 41\n",
      "[==================  ] 94%  Working on sample LL7_111_B                            duanDriver-2: t = 1473.15, p = 19000, z = 3.59121, v = 2.31509, delv = 0, dx = -7.88083e-14, iter = 42\n",
      "[=================== ] 98%  Working on sample LL7_116                            duanDriver-2: t = 1473.15, p = 20000, z = 3.83056, v = 2.34592, delv = 0, dx = -3.58594e-14, iter = 40\n",
      "[====================] 100%  Working on sample LL7_282                            \n"
     ]
    }
   ],
   "source": [
    "# Perform the calculation on the BatchFile \"data\"\n",
    "satPs = data.calculate_saturation_pressure(temperature=1200, model=model)\n",
    "\n",
    "# If desired, Print just the calculated saturation pressures\n",
    "# print(satPs[\"SaturationP_bars_VESIcal\"])\n",
    "\n",
    "# Save our newly calculated pressures to the data_values DataFrame\n",
    "data_values[\"SaturationP_bars_melt_only\"] = satPs[\"SaturationP_bars_VESIcal\"]\n",
    "\n",
    "# Pickle the calculated values to import later if so desired\n",
    "with open('pickle/satPs.pickle', 'wb') as handle:\n",
    "    pickle.dump(satPs, handle)"
   ]
  },
  {
   "cell_type": "code",
   "execution_count": 85,
   "metadata": {},
   "outputs": [],
   "source": [
    "# # uncomment this code and execute to pull already computed values from a pickle file\n",
    "# with open('pickle/satPs.pickle', 'rb') as handle:\n",
    "#     satPs = pickle.load(handle)\n",
    "\n",
    "# data_values[\"SaturationP_bars_melt_only\"] = satPs[\"SaturationP_bars_VESIcal\"]"
   ]
  },
  {
   "cell_type": "markdown",
   "metadata": {},
   "source": [
    "### 2. Calculate the density of the melt as represented by the glass compositions using DensityX (Iacovino & Till, 2019)\n",
    "The DensityX model can be imported separately or used within VESIcal. Here we will use the one that is already inside of the VESIcal library."
   ]
  },
  {
   "cell_type": "markdown",
   "metadata": {},
   "source": [
    "#### 2.1 Single Sample\n",
    "\n",
    "Use the built-in function `calculate_liquid_density` to calculate the liquid density of sample LL8_613b. We will use the temperature value of 1200 $^{\\circ}$ C and the saturation pressure calculated in question 1 above. Density values are returned in units of g/L."
   ]
  },
  {
   "cell_type": "code",
   "execution_count": 86,
   "metadata": {},
   "outputs": [
    {
     "data": {
      "text/plain": [
       "2716.081"
      ]
     },
     "execution_count": 86,
     "metadata": {},
     "output_type": "execute_result"
    }
   ],
   "source": [
    "liq_density_LL8_613b = v.calculate_liquid_density(sample=sample_LL8_613b, temperature=1200, pressure=satP_LL8_613b).result\n",
    "liq_density_LL8_613b"
   ]
  },
  {
   "cell_type": "markdown",
   "metadata": {},
   "source": [
    "#### 2.2 Batch Calculation (all samples)\n",
    "\n",
    "Use the built-in function `calculate_liquid_density` on the BatchFile object just created. As with Step 1, we will use 1200 $^{\\circ}$ C for the temperature for all samples. Use the saturation pressures calculated in Question 1 above as a unique pressure for each sample by passing the \"SaturationP_bars_VESIcal\" column from the `satPs` variable created above. Density values are returned in units of g/L."
   ]
  },
  {
   "cell_type": "code",
   "execution_count": 87,
   "metadata": {},
   "outputs": [],
   "source": [
    "# Create a VESIcal BatchFile from our new data_values that contains our calculated saturation pressures\n",
    "satPs = v.BatchFile_from_DataFrame(data_values)\n",
    "\n",
    "liq_densities = satPs.calculate_liquid_density(temperature=1200, pressure=\"SaturationP_bars_melt_only\")\n",
    "\n",
    "# If desired, print just the calculated liquid densities\n",
    "# print(liq_densities[\"Density_liq_VESIcal\"])\n",
    "\n",
    "# Save our new values to the data_values DataFrame\n",
    "data_values[\"Density_liq_VESIcal\"] = liq_densities[\"Density_liq_VESIcal\"]"
   ]
  },
  {
   "cell_type": "markdown",
   "metadata": {},
   "source": [
    "### 3. Calculate the density of the CO<sub>2</sub> in the bubbles using the equation to convert the diad separation into density\n",
    "\n",
    "Here we will run through a simplified calculation using the empiracle regression from Fall et al. (2011):\n",
    "\n",
    "$\\rho = -0.030314551 \\Delta^{3} + 9.432834797 \\Delta^{2} - 977.9384933 \\Delta + 33780.38242$\n",
    "\n",
    "Where $\\rho$ is the density and $\\Delta$ is the separation distance between the two peaks of the Fermi diad in cm<sup>-1</sup>. The python3 program [DiadFit (Wieser and DeVitre, 2024)](https://www.jvolcanica.org/ojs/index.php/volcanica/article/view/252) can be used to process Raman spectroscopy data and provide a fit to measured peaks and correct for instrument drift. Wieser and DeVitre (2024) provided the necessary values of correction factor, regression gradient, and regression intercept that allow us to calculate CO<sub>2</sub> densities with their corrections. We'll create a second function to solve:\n",
    "\n",
    "$\\rho = \\Delta \\times Corr \\times Regr_{gradient} \\times Regr_{intercept}$\n",
    "\n",
    "Where $\\rho$ is again the density, $\\Delta$ is again the Fermi diad separation, $Corr$ is the correction factor, $Regr_{gradient}$ is the gradient of the regression through their data, and $Rerg_{intercept}$ is the intercept of the regression through their data.\n",
    "\n",
    "In the dataset from Kilauea that we are using here, the separation distance between the diad peaks has already been calculated, so we will use the $\\Delta$ values from the xslx file under the column titled \"CO2 Fermi Diad\"."
   ]
  },
  {
   "cell_type": "markdown",
   "metadata": {},
   "source": [
    "#### 3.1 Single Sample\n",
    "Let's write a function to solve the equation given above for CO<sub>2</sub> vapor density, $\\rho$."
   ]
  },
  {
   "cell_type": "code",
   "execution_count": 88,
   "metadata": {},
   "outputs": [],
   "source": [
    "def CO2_vapor_density_Fall(diad_separation):\n",
    "     \"\"\"\n",
    "     A function to calculate the density, rho, of CO2 vapor given the Fermi diad separation in\n",
    "     cm-1 from Raman data from Fall et al. (2011).\n",
    "\n",
    "     Parameters\n",
    "     ----------\n",
    "     diad_separation:   float\n",
    "        The Fermi diad separation in cm-1. Do not use data <10^3 cm-1, as this equation is\n",
    "        poorly calibrated below that value.\n",
    "\n",
    "      Returns\n",
    "      -------\n",
    "      float\n",
    "         Vapor density of CO2, rho, in units of g/cm3\n",
    "     \"\"\"\n",
    "\n",
    "     rho = (-0.030314551 * diad_separation**3 + \n",
    "            9.432834797 * diad_separation**2 -\n",
    "            977.9384933 * diad_separation +\n",
    "            33780.38242)\n",
    "     \n",
    "     return rho\n",
    "\n",
    "def CO2_vapor_density_Wieser(diad_separation, correction_factor, regr_gradient, regr_intercept):\n",
    "     \"\"\"\n",
    "     A function to calculate the density, rho, of CO2 vapor given the Fermi diad separation in\n",
    "     cm-1 and correction factors from Raman data from Wieser and DeVitre (2024).\n",
    "\n",
    "     Parameters\n",
    "     ----------\n",
    "     diad_separation:   float\n",
    "        The Fermi diad separation in cm-1.\n",
    "      \n",
    "      correction_factor:   float\n",
    "         Correction factor determined for the instrument used to take the Raman spectra. This is\n",
    "         unique to each sample.\n",
    "      \n",
    "      regr_gradient:   float\n",
    "         Gradient of the regression line through the standards used during Raman measurements.\n",
    "      \n",
    "      regr_intercept:   float\n",
    "         The intercept of the regression line through the standards used during Raman measurements.\n",
    "\n",
    "      Returns\n",
    "      -------\n",
    "      float\n",
    "         Vapor density of CO2, rho, in units of g/cm3\n",
    "     \"\"\"\n",
    "\n",
    "     rho = diad_separation * correction_factor * regr_gradient + regr_intercept\n",
    "     \n",
    "     return rho"
   ]
  },
  {
   "cell_type": "markdown",
   "metadata": {},
   "source": [
    "Now, let's get the diad separation value for sample LL8_613b and use our function to calculate the vapor density, rho. We'll use the Wieser and Devitre (2024) equation to go with their data."
   ]
  },
  {
   "cell_type": "code",
   "execution_count": 89,
   "metadata": {},
   "outputs": [
    {
     "name": "stdout",
     "output_type": "stream",
     "text": [
      "Diad separation for sample LL8_613b = 102.616121121121\n",
      "Correction factor for sample LL8_613b = 1.00017797800926\n",
      "The CO2 bubble vapor density for sample LL8_613b = 0.021976516641970534\n"
     ]
    }
   ],
   "source": [
    "# Get the diad separation and correction factor values from our data file and save it to a variable\n",
    "LL8_613b_diad_separation = data_values.loc[\"LL8_613b\"][\"Fermi diad separation\"]\n",
    "LL8_613b_correction_factor = data_values.loc[\"LL8_613b\"][\"Correction Factor\"]\n",
    "\n",
    "# The gradient and intercept of the regression of standards for these data are constant\n",
    "regr_gradient = 0.321699687828446\n",
    "regr_intercept = -32.9954729484350\n",
    "\n",
    "# Use our function to calculate the vapor density, rho\n",
    "rho_LL8_613b = CO2_vapor_density_Wieser(LL8_613b_diad_separation, LL8_613b_correction_factor, regr_gradient, regr_intercept)\n",
    "\n",
    "# Print the pulled values and calculated vapor density, in units of g/cm3\n",
    "print(\"Diad separation for sample LL8_613b = \" + str(LL8_613b_diad_separation))\n",
    "print(\"Correction factor for sample LL8_613b = \" + str(LL8_613b_correction_factor))\n",
    "print(\"The CO2 bubble vapor density for sample LL8_613b = \" + str(rho_LL8_613b))"
   ]
  },
  {
   "cell_type": "markdown",
   "metadata": {},
   "source": [
    "#### 3.2 Batch Calculation (all samples)\n",
    "Let's loop over the function we created above to solve for CO<sub>2</sub> vapor density, $\\rho$, in all of our samples. We will use a for loop to perform the calculation on each row of our data_values object that we created in Step 0."
   ]
  },
  {
   "cell_type": "code",
   "execution_count": 90,
   "metadata": {},
   "outputs": [],
   "source": [
    "# Loop over each sample (row) in our Kilauea data\n",
    "rho_values = [] # First, create an empty list to store our calculated values\n",
    "\n",
    "for index, row in data_values.iterrows(): # begin the loop\n",
    "    rho = CO2_vapor_density_Wieser(row[\"Fermi diad separation\"], row[\"Correction Factor\"],\n",
    "                               regr_gradient, regr_intercept) # calculate each sample\n",
    "    rho_values.append(rho) # add that rho value to our list\n",
    "# Add our list of rho values to our original data table to easily examine the results\n",
    "data_values[\"Density_CO2_bubble\"] = rho_values\n",
    "\n",
    "# If so desired, print out each sample name and the calculated rho value\n",
    "# for index, row in data_values.iterrows():\n",
    "#     print(\"Sample \" + str(index) + \" rho: \" + str(row[\"Density_CO2_bubble\"]))\n"
   ]
  },
  {
   "cell_type": "markdown",
   "metadata": {},
   "source": [
    "### 4. Calculate the concentration of CO<sub>2</sub> in the bubble (in ppm) using:\n",
    "\n",
    "$[CO_2]^{VB} = 10^4 \\times \\frac{\\rho_{CO_2} V_{VB}}{\\rho_{melt}V_{melt}}$\n",
    "\n",
    "where $V_{VB}$ and $V_{melt}$ are the volume of the vapor bubble and the melt phase of the inclusion, respectively, and $\\rho_{melt}$ is the density of the silicate melt.\n",
    "\n",
    "The Kilauea data provide vapor and melt volumes within each inclusion in terms of the ratio, $V_{ratio}$ of the volume of the vapor bubble over the volume of the silicate melt. We can rewrite the above equation as:\n",
    "\n",
    "$[CO_2]^{VB} = 10^4 \\times V_{ratio} \\times \\frac{\\rho_{CO_2}}{\\rho_{melt}}$"
   ]
  },
  {
   "cell_type": "markdown",
   "metadata": {},
   "source": [
    "#### 4.1 Single Sample\n",
    "Let's write a function to solve the equation given above for CO<sub>2</sub> concentration in the vapor bubble, $[CO_2]^{VB}$."
   ]
  },
  {
   "cell_type": "code",
   "execution_count": 91,
   "metadata": {},
   "outputs": [],
   "source": [
    "def CO2_concentration_bubble(CO2_vapor_density, melt_density, volume_ratio):\n",
    "    \"\"\"\n",
    "     A function to calculate the concentration of CO2 in a vapor bubble given densities of the CO2\n",
    "     in the bubble and of the silicate melt and the volumes of the bubble and melt.\n",
    "\n",
    "     Parameters\n",
    "     ----------\n",
    "     CO2_vapor_density:   float\n",
    "        Vapor density of CO2, rho, in units of g/cm3\n",
    "    \n",
    "    melt_density:   float\n",
    "        Density of the silicate melt, in units of g/L. This will need to be converted to g/cm3\n",
    "        to match the units on the CO2_vapor_density, but we use g/L as an input since that is what\n",
    "        is returned by VESIcal.\n",
    "    \n",
    "    volume_ratio:   float\n",
    "        The ratio between the volume of the vapor and the volume of the silicate melt within the\n",
    "        inclusion.\n",
    "\n",
    "      Returns\n",
    "      -------\n",
    "      float\n",
    "         The concentration of CO2 in the vapor bubble, in units of ppm\n",
    "     \"\"\"\n",
    "    # translate melt density from g/L (output of VESIcal) to g/cm3 (needed for equation)\n",
    "    melt_density_g_cm = melt_density / 1000.0\n",
    "\n",
    "    CO2_conc = 10**4 * volume_ratio * CO2_vapor_density / melt_density_g_cm\n",
    "\n",
    "    return CO2_conc"
   ]
  },
  {
   "cell_type": "code",
   "execution_count": 92,
   "metadata": {},
   "outputs": [
    {
     "data": {
      "text/plain": [
       "220.35858304847918"
      ]
     },
     "execution_count": 92,
     "metadata": {},
     "output_type": "execute_result"
    }
   ],
   "source": [
    "# Get the ratio of vapor to melt volume in the MI, as reported in the provided excel data\n",
    "volume_ratio = data_values.loc[\"LL8_613b\"][\"VolBubble_VolMelt\"]\n",
    "\n",
    "CO2_ppm_LL8_613b = CO2_concentration_bubble(rho_LL8_613b, liq_density_LL8_613b, volume_ratio)\n",
    "CO2_ppm_LL8_613b"
   ]
  },
  {
   "cell_type": "markdown",
   "metadata": {},
   "source": [
    "#### 4.2 Batch Calculation (all samples)\n",
    "Let's loop over the function we created above to solve for CO<sub>2</sub> concentration in ppm in all of our samples. We will run a for loop over the data_values object that we created in Step 0 and have been adding data to throughout."
   ]
  },
  {
   "cell_type": "code",
   "execution_count": 93,
   "metadata": {},
   "outputs": [],
   "source": [
    "# Loop over each sample (row) in our Kilauea data\n",
    "CO2_ppm_bubble = [] # First, create an empty list to store our calculated values\n",
    "\n",
    "for index, row in data_values.iterrows(): # begin the loop\n",
    "    CO2_ppm = CO2_concentration_bubble(row['Density_CO2_bubble'], row['Density_liq_VESIcal'], row['VolBubble_VolMelt']) # calculate each sample\n",
    "    CO2_ppm_bubble.append(CO2_ppm) # add that rho value to our list\n",
    "# Add our list of rho values to our original data table to easily examine the results\n",
    "data_values[\"CO2_ppm_bubble\"] = CO2_ppm_bubble\n",
    "\n",
    "# If so desired, print out each sample name and the calculated CO2 ppm value in the bubble\n",
    "# for index, row in data_values.iterrows():\n",
    "#     print(\"Sample \" + str(index) + \" CO2 bubble (ppm): \" + str(row[\"CO2_ppm_bubble\"]))"
   ]
  },
  {
   "cell_type": "markdown",
   "metadata": {},
   "source": [
    "### 5. Calculate the total amount of CO<sub>2</sub> in the inclusion (in ppm):\n",
    "\n",
    "$[CO_2]^{Tot} = [CO_2]^{VB} + [CO_2]^{melt}$"
   ]
  },
  {
   "cell_type": "markdown",
   "metadata": {},
   "source": [
    "#### 5.1 Single Sample\n",
    "Let's write a function to solve the equation given above for CO<sub>2</sub> concentration in the inclusion (bubble + melt), $[CO_2]^{Tot}$."
   ]
  },
  {
   "cell_type": "code",
   "execution_count": 94,
   "metadata": {},
   "outputs": [],
   "source": [
    "def CO2_concentration_total(CO2_concentration_bubble, CO2_concentration_melt):\n",
    "    \"\"\"\n",
    "     A function to calculate the concentration of CO2 in a bubble-bearing melt inclusion given\n",
    "     the concentrations in the bubble and melt phases.\n",
    "\n",
    "     Parameters\n",
    "     ----------\n",
    "     CO2_concentration_bubble:   float\n",
    "        Concentration of CO2 in the bubble, in ppm\n",
    "    \n",
    "    CO2_concentration_melt:   float\n",
    "        Concentration of CO2 in the melt, in ppm\n",
    "\n",
    "      Returns\n",
    "      -------\n",
    "      float\n",
    "         The concentration of CO2 in the inclusion in total, in units of ppm\n",
    "     \"\"\"\n",
    "    \n",
    "    CO2_total = CO2_concentration_bubble + CO2_concentration_melt\n",
    "\n",
    "    return CO2_total"
   ]
  },
  {
   "cell_type": "code",
   "execution_count": 95,
   "metadata": {},
   "outputs": [
    {
     "data": {
      "text/plain": [
       "245.2121549611346"
      ]
     },
     "execution_count": 95,
     "metadata": {},
     "output_type": "execute_result"
    }
   ],
   "source": [
    "# Get the concentrations of CO2 in the bubble and melt phase for one sample\n",
    "CO2_ppm_bubble = CO2_ppm_LL8_613b\n",
    "CO2_ppm_melt = data_values.loc[\"LL8_613b\"][\"CO2_ppm_melt\"]\n",
    "\n",
    "CO2_total_LL8_613b = CO2_concentration_total(CO2_ppm_bubble, CO2_ppm_melt)\n",
    "\n",
    "CO2_total_LL8_613b"
   ]
  },
  {
   "cell_type": "markdown",
   "metadata": {},
   "source": [
    "#### 5.2 Batch Calculation (all samples)\n",
    "Let's loop over the function we created above to solve for CO<sub>2</sub> concentration in the inclusion in all of our samples. We will run a for loop over the data_values object that we created in Step 0 and have been adding data to throughout."
   ]
  },
  {
   "cell_type": "code",
   "execution_count": 96,
   "metadata": {},
   "outputs": [],
   "source": [
    "# Loop over each sample (row) in our Kilauea data\n",
    "CO2_ppm_total = [] # First, create an empty list to store our calculated values\n",
    "\n",
    "for index, row in data_values.iterrows(): # begin the loop\n",
    "    CO2_ppm = CO2_concentration_total(row['CO2_ppm_bubble'], row['CO2_ppm_melt']) # calculate each sample\n",
    "    CO2_ppm_total.append(CO2_ppm) # add that rho value to our list\n",
    "# Add our list of rho values to our original data table to easily examine the results\n",
    "data_values[\"CO2_ppm_total\"] = CO2_ppm_total\n",
    "\n",
    "# If so desired, print out each sample name and the calculated rho value\n",
    "# for index, row in data_values.iterrows():\n",
    "#     print(\"Sample \" + str(index) + \" rho: \" + str(row[\"Density_CO2_bubble\"]))"
   ]
  },
  {
   "cell_type": "markdown",
   "metadata": {},
   "source": [
    "#### 5.3 Let's compare CO<sub>2</sub> concentrations in the melt alone to those when the vapor bubble is included\n",
    "We'll make a plot comparing the values. How significant is the CO<sub>2</sub> in the bubble in terms of the amount of CO<sub>2</sub> in the inclusion as a whole?"
   ]
  },
  {
   "cell_type": "code",
   "execution_count": 103,
   "metadata": {},
   "outputs": [
    {
     "data": {
      "image/png": "[encoded data removed]",
      "text/plain": [
       "<Figure size 576x576 with 1 Axes>"
      ]
     },
     "metadata": {
      "needs_background": "light"
     },
     "output_type": "display_data"
    }
   ],
   "source": [
    "# create a figure and axes with matplotlib\n",
    "fig, ax = plt.subplots(figsize=(8,8))\n",
    "ax.set_xlim(0,1600)\n",
    "ax.set_ylim(0,1600)\n",
    "\n",
    "# define x and y values to plot\n",
    "x = data_values[\"CO2_ppm_total\"] # CO2 in the melt alone\n",
    "y1 = data_values[\"CO2_ppm_bubble\"]\n",
    "y2 = data_values[\"CO2_ppm_melt\"]\n",
    "\n",
    "x_11 = np.linspace(0,1600)\n",
    "\n",
    "# calculate linear fits for each data grouping\n",
    "coef1 = np.polyfit(x,y1,1)\n",
    "poly1d_fn1 = np.poly1d(coef1) \n",
    "coef2 = np.polyfit(x,y2,1)\n",
    "poly1d_fn2 = np.poly1d(coef2)\n",
    "\n",
    "# add axis titles\n",
    "ax.set_xlabel(r\"$CO_2$ in the melt + bubble (ppm)\")\n",
    "ax.set_ylabel(r\"$CO_2$ in phase (ppm)\")\n",
    "\n",
    "# add linear fits to the plot\n",
    "ax.plot(x, poly1d_fn1(x), color=\"#800080\", label=\"Bubble only\")\n",
    "ax.plot(x, poly1d_fn2(x), color=\"#FF8C03\", label=\"Melt only\")\n",
    "\n",
    "# add data to the plot\n",
    "ax.plot(x, y1, '.', color=\"#800080\", markersize=18, mec=\"black\")\n",
    "ax.plot(x, y2, '.', color=\"#FF8C03\", markersize=18, mec=\"black\")\n",
    "ax.plot(x_11, x_11, '--', color=\"black\", label=\"Melt + Bubble\")\n",
    "plt.legend()\n",
    "\n",
    "fig.savefig('KilaueaExercise_Figure1.png', dpi=400)   # save the figure to file\n",
    "\n",
    "plt.show()"
   ]
  },
  {
   "cell_type": "markdown",
   "metadata": {},
   "source": [
    "### 6. Use the total volatile contents of the inclusions to calculate saturation pressures using VESIcal.\n",
    "Compare these pressures to those you calculated in Step 1. What can you conclude about the importance of analyzing bubbles in melt inclusions?\n",
    "\n",
    "#### 6.1 Create a new VESIcal BatchFile\n",
    "First, we'll create a new BatchFile for samples where we consider CO<sub>2</sub> in both the bubble and melt. VESIcal always assumes that the values under a column labeled \"CO2\" correspond to the CO<sub>2</sub> value to use in units of wt%. For the melt+bubble CO<sub>2</sub> batch file, we will copy the data_values object, and then overwrite the \"CO2\" column with the CO<sub>2</sub> concentration in total inclusion that we calculated above."
   ]
  },
  {
   "cell_type": "code",
   "execution_count": 98,
   "metadata": {},
   "outputs": [],
   "source": [
    "# VESIcal BatchFile with CO2 in melt+bubble combined\n",
    "data_melt_plus_bubble = data_values\n",
    "data_melt_plus_bubble[\"CO2\"] = data_values[\"CO2_ppm_total\"] / 10000\n",
    "data_melt_plus_bubble = v.BatchFile_from_DataFrame(data_melt_plus_bubble)"
   ]
  },
  {
   "cell_type": "markdown",
   "metadata": {},
   "source": [
    "#### 6.2 Calculate saturation pressures\n",
    "Now, let's calculate the saturation pressures for all samples using where our CO<sub>2</sub> value is that of the CO<sub>2</sub> in the melt+bubble.\n",
    "\n",
    "The MagmaSat model can take a couple of minutes to run this calculation. If desired, you may comment out the code in the cell directly below and uncomment and execute the code in the following cell, which will import a pickle file with this calculation already performed. You can also use another model within VESIcal such as the IaconoMarziano model."
   ]
  },
  {
   "cell_type": "code",
   "execution_count": 99,
   "metadata": {},
   "outputs": [
    {
     "name": "stdout",
     "output_type": "stream",
     "text": [
      "[                    ] 2%  Working on sample LL8_613b                            "
     ]
    },
    {
     "name": "stdout",
     "output_type": "stream",
     "text": [
      "duanDriver-2: t = 1473.15, p = 9000, z = 3.14992, v = 4.28685, delv = 0, dx = -1.23734e-13, iter = 42\n",
      "[==                  ] 11%  Working on sample LL8_404_a                            duanDriver-2: t = 1473.15, p = 19000, z = 5.1592, v = 3.32591, delv = 0, dx = -3.69484e-14, iter = 44\n",
      "duanDriver-2: t = 1473.15, p = 17000, z = 4.80553, v = 3.46237, delv = 0, dx = -5.21805e-14, iter = 43\n",
      "[==                  ] 13%  Working on sample LL8_404_b                            duanDriver-2: t = 1473.15, p = 20000, z = 5.21917, v = 3.19634, delv = 0, dx = -4.70244e-14, iter = 44\n",
      "[====                ] 22%  Working on sample LL8_630                              duanDriver-2: t = 1473.15, p = 6000, z = 2.52509, v = 5.15475, delv = 0, dx = -2.64321e-14, iter = 33\n",
      "[====                ] 24%  Working on sample LL8_631a                            duanDriver-2: t = 1473.15, p = 8000, z = 2.95252, v = 4.52047, delv = 0, dx = -1.24683e-13, iter = 41\n",
      "[======              ] 33%  Working on sample LL8_406                              duanDriver-2: t = 1473.15, p = 10000, z = 3.38074, v = 4.14089, delv = 0, dx = -5.00269e-14, iter = 41\n",
      "duanDriver-2: t = 1473.15, p = 7000, z = 2.73327, v = 4.78262, delv = 0, dx = -3.13798e-14, iter = 41\n",
      "[========            ] 43%  Working on sample LL8_426                              duanDriver-2: t = 1473.15, p = 9000, z = 3.1973, v = 4.35134, delv = 0, dx = -6.9411e-14, iter = 43\n",
      "[===========         ] 56%  Working on sample LL4_25_A                             duanDriver-2: t = 1473.15, p = 8000, z = 2.95559, v = 4.52517, delv = 0, dx = -3.15732e-14, iter = 43\n",
      "[============        ] 63%  Working on sample LL4_12                              duanDriver-2: t = 1473.15, p = 10000, z = 3.41027, v = 4.17705, delv = 0, dx = -2.31947e-13, iter = 39\n",
      "[==============      ] 70%  Working on sample LL4_23                            duanDriver-2: t = 1473.15, p = 8000, z = 2.96742, v = 4.54328, delv = 0, dx = -3.3137e-14, iter = 43\n",
      "[==============      ] 72%  Working on sample LL4_39c                            duanDriver-2: t = 1473.15, p = 8000, z = 2.88413, v = 4.41577, delv = 0, dx = -9.07306e-14, iter = 41\n",
      "[===============     ] 76%  Working on sample LL7_115_A                            duanDriver-2: t = 1473.15, p = 8000, z = 2.95354, v = 4.52204, delv = 0, dx = -6.26104e-14, iter = 42\n",
      "[===============     ] 78%  Working on sample LL7_115_B                            duanDriver-2: t = 1473.15, p = 19000, z = 4.97913, v = 3.20982, delv = 0, dx = -1.70102e-13, iter = 42\n",
      "[===============     ] 80%  Working on sample LL7_114                            duanDriver-2: t = 1473.15, p = 12000, z = 3.83571, v = 3.91513, delv = 0, dx = -2.4931e-13, iter = 41\n",
      "[================    ] 81%  Working on sample LL7_111_A                            duanDriver-2: t = 1473.15, p = 18000, z = 4.94969, v = 3.36812, delv = 0, dx = -3.32527e-14, iter = 44\n",
      "duanDriver-2: t = 1473.15, p = 8000, z = 2.97728, v = 4.55839, delv = 0, dx = -3.44581e-14, iter = 43\n",
      "[==================  ] 93%  Working on sample LL7_290_B                            duanDriver-2: t = 1473.15, p = 17000, z = 4.75652, v = 3.42706, delv = 0, dx = -2.73309e-14, iter = 44\n",
      "[=================== ] 98%  Working on sample LL7_116                              duanDriver-2: t = 1473.15, p = 17000, z = 4.79961, v = 3.45811, delv = 0, dx = -2.62732e-14, iter = 44\n",
      "[====================] 100%  Working on sample LL7_282                            \n",
      "duanDriver-2: t = 1473.15, p = 7000, z = 2.75367, v = 4.81832, delv = 0, dx = -3.7211e-14, iter = 41\n",
      "duanDriver-2: t = 1473.15, p = 6000, z = 2.52401, v = 5.15254, delv = 0, dx = -2.54746e-14, iter = 32\n"
     ]
    }
   ],
   "source": [
    "SatPs_melt_plus_bubble = data_melt_plus_bubble.calculate_saturation_pressure(temperature=1200, model=model)\n",
    "\n",
    "# add these values to our data_values object\n",
    "data_values[\"SaturationP_bars_melt_plus_bubble\"] = SatPs_melt_plus_bubble[\"SaturationP_bars_VESIcal\"]\n",
    "\n",
    "# pickle the calculated values to read back in later if so desired\n",
    "with open('pickle/SatPs_melt_plus_bubble.pickle', 'wb') as handle:\n",
    "    pickle.dump(SatPs_melt_plus_bubble, handle)"
   ]
  },
  {
   "cell_type": "code",
   "execution_count": 100,
   "metadata": {},
   "outputs": [],
   "source": [
    "with open('pickle/SatPs_melt_plus_bubble.pickle', 'rb') as handle:\n",
    "    SatPs_melt_plus_bubble = pickle.load(handle)\n",
    "\n",
    "# add these values to our data_values object\n",
    "data_values[\"SaturationP_bars_melt_plus_bubble\"] = SatPs_melt_plus_bubble[\"SaturationP_bars_VESIcal\"]"
   ]
  },
  {
   "cell_type": "markdown",
   "metadata": {},
   "source": [
    "#### 6.3 Plot up the data and compare\n",
    "Let's plot saturation pressures calculated with only the melt CO<sub>2</sub>, only the bubble CO<sub>2</sub>, and the combined melt + bubble CO<sub>2</sub>."
   ]
  },
  {
   "cell_type": "code",
   "execution_count": 104,
   "metadata": {},
   "outputs": [
    {
     "data": {
      "image/png": "[encoded data removed]",
      "text/plain": [
       "<Figure size 576x576 with 1 Axes>"
      ]
     },
     "metadata": {
      "needs_background": "light"
     },
     "output_type": "display_data"
    }
   ],
   "source": [
    "# create a figure and axes with matplotlib\n",
    "fig, ax = plt.subplots(figsize=(8,8))\n",
    "ax.set_xlim(0,1600)\n",
    "ax.set_ylim(0,2200)\n",
    "\n",
    "# define x and y values to plot\n",
    "x = data_values[\"CO2_ppm_total\"] # CO2 in the melt alone\n",
    "y1 = data_values[\"SaturationP_bars_melt_plus_bubble\"]\n",
    "y2 = data_values[\"SaturationP_bars_melt_only\"]\n",
    "y3 = x-y2\n",
    "\n",
    "# calculate linear fits for each data grouping\n",
    "coef1 = np.polyfit(x,y1,1)\n",
    "poly1d_fn1 = np.poly1d(coef1) \n",
    "coef2 = np.polyfit(x,y2,1)\n",
    "poly1d_fn2 = np.poly1d(coef2)\n",
    "coef3 = np.polyfit(x,y3,1)\n",
    "poly1d_fn3 = np.poly1d(coef3)\n",
    "\n",
    "# add axis titles\n",
    "ax.set_xlabel(r\"$CO_2$ in the melt + bubble (ppm)\")\n",
    "ax.set_ylabel(\"Saturation pressure (bars)\")\n",
    "\n",
    "# add linear fits to the plot\n",
    "ax.plot(x, poly1d_fn1(x), color=\"#800080\", label=\"Melt + Bubble\")\n",
    "ax.plot(x, poly1d_fn2(x), color=\"#FF8C03\", label=\"Melt only\")\n",
    "ax.plot(x, poly1d_fn3(x), color=\"#0160c6\", label=\"Bubble only\")\n",
    "\n",
    "# add data to the plot\n",
    "ax.plot(x, y1, '.', color=\"#800080\", markersize=15, mec=\"black\")\n",
    "ax.plot(x, y2, '.', color=\"#FF8C03\", markersize=15, mec=\"black\")\n",
    "ax.plot(x, y3, '.', color=\"#0160c6\", markersize=15, mec=\"black\")\n",
    "plt.legend()\n",
    "\n",
    "fig.savefig('KilaueaExercise_Figure2.png', dpi=400)   # save the figure to file\n",
    "\n",
    "plt.show()"
   ]
  },
  {
   "cell_type": "markdown",
   "metadata": {},
   "source": [
    "## Save all calculated data to an Excel or CSV file\n",
    "You can compare your results with the answer key to this notebook, found in a CSV file called 'Kilauea_Exercise_KEY.csv'.\n"
   ]
  },
  {
   "cell_type": "code",
   "execution_count": 102,
   "metadata": {},
   "outputs": [],
   "source": [
    "data_values.to_excel(\"Kilauea_Exercise_output.xlsx\")\n",
    "data_values.to_csv(\"Kilauea_Exercise_output.csv\")"
   ]
  }
 ],
 "metadata": {
  "kernelspec": {
   "display_name": "base",
   "language": "python",
   "name": "python3"
  },
  "language_info": {
   "codemirror_mode": {
    "name": "ipython",
    "version": 3
   },
   "file_extension": ".py",
   "mimetype": "text/x-python",
   "name": "python",
   "nbconvert_exporter": "python",
   "pygments_lexer": "ipython3",
   "version": "3.9.7"
  }
 },
 "nbformat": 4,
 "nbformat_minor": 2
}
